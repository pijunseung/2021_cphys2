{
 "cells": [
  {
   "cell_type": "markdown",
   "metadata": {},
   "source": [
    "# XOR"
   ]
  },
  {
   "cell_type": "markdown",
   "metadata": {},
   "source": [
    "* 하나의 히든 레이어를 도입한다.\n",
    "* input layer는 2개의 노드 + 1개의 바이어스\n",
    "* hidden layer는 3개의 노드 + 1개의 바이어스\n",
    "* output은 하나의 노드로 한다."
   ]
  },
  {
   "cell_type": "code",
   "execution_count": 1,
   "metadata": {},
   "outputs": [],
   "source": [
    "%matplotlib inline\n",
    "import matplotlib.pyplot as plt\n",
    "import numpy as np\n",
    "import random"
   ]
  },
  {
   "cell_type": "code",
   "execution_count": 2,
   "metadata": {},
   "outputs": [],
   "source": [
    "X = np.array([[0,0,1],[1,0,1],[0,1,1],[1,1,1]]) # 세번째 항은 bias\n",
    "Y = np.array([0,1,1,0])"
   ]
  },
  {
   "cell_type": "code",
   "execution_count": 3,
   "metadata": {},
   "outputs": [],
   "source": [
    "def sigmoid(x):\n",
    "    y=1/(1+np.exp(-x))\n",
    "    return y"
   ]
  },
  {
   "cell_type": "code",
   "execution_count": 4,
   "metadata": {},
   "outputs": [
    {
     "data": {
      "text/plain": [
       "array([[0, 0, 1],\n",
       "       [1, 0, 1],\n",
       "       [0, 1, 1],\n",
       "       [1, 1, 1]])"
      ]
     },
     "execution_count": 4,
     "metadata": {},
     "output_type": "execute_result"
    }
   ],
   "source": [
    "X"
   ]
  },
  {
   "cell_type": "code",
   "execution_count": 5,
   "metadata": {},
   "outputs": [
    {
     "data": {
      "text/plain": [
       "array([[-0.61403314,  0.30727341, -0.10230651],\n",
       "       [ 1.1233892 ,  1.68953983,  0.41683191],\n",
       "       [-0.4812932 ,  0.56373919, -1.53503577],\n",
       "       [-0.97146384,  0.22745827,  0.82476412]])"
      ]
     },
     "execution_count": 5,
     "metadata": {},
     "output_type": "execute_result"
    }
   ],
   "source": [
    "w=np.random.randn(4,3)\n",
    "w"
   ]
  },
  {
   "cell_type": "code",
   "execution_count": 6,
   "metadata": {},
   "outputs": [
    {
     "data": {
      "text/plain": [
       "array([ 0.13527898,  0.63426288,  0.11940555, -1.80431024])"
      ]
     },
     "execution_count": 6,
     "metadata": {},
     "output_type": "execute_result"
    }
   ],
   "source": [
    "omega=np.random.randn(4,)\n",
    "omega"
   ]
  },
  {
   "cell_type": "code",
   "execution_count": 7,
   "metadata": {},
   "outputs": [],
   "source": [
    "eta=1"
   ]
  },
  {
   "cell_type": "code",
   "execution_count": 8,
   "metadata": {},
   "outputs": [],
   "source": [
    "deltah=[0,0,0,0]\n",
    "epochs=30\n",
    "error_sum=[]\n",
    "for epoch in range (epochs+1):\n",
    "    for n in range(1000):\n",
    "        E=0\n",
    "        for i in range(4):\n",
    "            neth = np.dot(w,X[i])\n",
    "            h=sigmoid(neth)\n",
    "            neto = np.dot(omega,h)\n",
    "            ohat = sigmoid(neto)\n",
    "            E = E + (ohat-Y[i])**2\n",
    "            deltao = (ohat-Y[i]) * ohat * (1-ohat)\n",
    "            for j in range(4):\n",
    "                deltah[j] = deltao * omega[j] * sigmoid(neth[j]) * (1-sigmoid(neth[j]))\n",
    "                omega[j] = omega[j] - eta * deltao * h[j]\n",
    "                for k in range(3):\n",
    "                    w[j][k] = w[j][k] - eta * deltah[j] * X[i][k]\n",
    "    error_sum.append(E)"
   ]
  },
  {
   "cell_type": "code",
   "execution_count": 9,
   "metadata": {},
   "outputs": [
    {
     "data": {
      "text/plain": [
       "Text(0, 0.5, 'error_sum')"
      ]
     },
     "execution_count": 9,
     "metadata": {},
     "output_type": "execute_result"
    },
    {
     "data": {
      "image/png": "[encoded data removed]",
      "text/plain": [
       "<Figure size 432x288 with 1 Axes>"
      ]
     },
     "metadata": {
      "needs_background": "light"
     },
     "output_type": "display_data"
    }
   ],
   "source": [
    "plt.plot(error_sum)\n",
    "plt.xlabel(\"epoch\")\n",
    "plt.ylabel(\"error_sum\")"
   ]
  },
  {
   "cell_type": "code",
   "execution_count": 10,
   "metadata": {},
   "outputs": [
    {
     "data": {
      "text/plain": [
       "(array([[-5.39120504,  3.21795919, -1.2781104 ],\n",
       "        [ 4.69584273,  4.69610788, -0.97339317],\n",
       "        [-5.2930124 ,  3.49098982, -1.57098984],\n",
       "        [-5.34180596,  7.06317668,  2.09960016]]),\n",
       " array([  6.44340522,   5.54101546,   6.30973923, -11.16119023]))"
      ]
     },
     "execution_count": 10,
     "metadata": {},
     "output_type": "execute_result"
    }
   ],
   "source": [
    "w,omega"
   ]
  },
  {
   "cell_type": "code",
   "execution_count": 11,
   "metadata": {},
   "outputs": [
    {
     "data": {
      "text/plain": [
       "array([0.00264049, 0.99334182, 0.99544472, 0.00686129])"
      ]
     },
     "execution_count": 11,
     "metadata": {},
     "output_type": "execute_result"
    }
   ],
   "source": [
    "t=[]\n",
    "for i in range(4):\n",
    "    neth = np.dot(w,X[i])\n",
    "    h=sigmoid(neth)\n",
    "    neto = np.dot(omega,h)\n",
    "    ohat = sigmoid(neto)\n",
    "    t.append(ohat)\n",
    "np.array(t)"
   ]
  },
  {
   "cell_type": "markdown",
   "metadata": {},
   "source": [
    "예측값과 타겟값이 비슷해졌다."
   ]
  }
 ],
 "metadata": {
  "kernelspec": {
   "display_name": "Python 3",
   "language": "python",
   "name": "python3"
  },
  "language_info": {
   "codemirror_mode": {
    "name": "ipython",
    "version": 3
   },
   "file_extension": ".py",
   "mimetype": "text/x-python",
   "name": "python",
   "nbconvert_exporter": "python",
   "pygments_lexer": "ipython3",
   "version": "3.8.3"
  }
 },
 "nbformat": 4,
 "nbformat_minor": 4
}
