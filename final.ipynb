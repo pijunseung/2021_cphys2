{
 "cells": [
  {
   "cell_type": "markdown",
   "id": "21d35b73",
   "metadata": {},
   "source": [
    "# 1. Titanic (Regression)\n",
    "\n",
    "* https://www.kaggle.com/c/titanic/overview\n",
    "* 출력을 csv파일로 저장하여 함께 제출\n",
    "* submit predictions에 테스트해 볼 것!\n",
    "* 어떠한 알고리즘을 사용하여도 무방함\n",
    "* 참조: https://www.kaggle.com/alexisbcook/getting-started-with-titanic"
   ]
  },
  {
   "cell_type": "code",
   "execution_count": 1,
   "id": "786f4a70",
   "metadata": {},
   "outputs": [],
   "source": [
    "# data analysis and wrangling\n",
    "import pandas as pd\n",
    "import numpy as np\n",
    "import random as rnd\n",
    "\n",
    "# visualization\n",
    "import seaborn as sns\n",
    "import matplotlib.pyplot as plt\n",
    "%matplotlib inline\n",
    "\n",
    "import torch\n",
    "\n",
    "# machine learning\n",
    "from sklearn.linear_model import LogisticRegression\n",
    "from sklearn.svm import SVC, LinearSVC\n",
    "from sklearn.ensemble import RandomForestClassifier\n",
    "from sklearn.neighbors import KNeighborsClassifier\n",
    "from sklearn.naive_bayes import GaussianNB\n",
    "from sklearn.linear_model import Perceptron\n",
    "from sklearn.linear_model import SGDClassifier\n",
    "from sklearn.tree import DecisionTreeClassifier"
   ]
  },
  {
   "cell_type": "code",
   "execution_count": 2,
   "id": "3b9c71cd",
   "metadata": {},
   "outputs": [],
   "source": [
    "# 데이터 로드\n",
    "train_data = pd.read_csv('./titanic/train.csv')\n",
    "test = pd.read_csv('./titanic/test.csv')\n",
    "gender_submission = pd.read_csv('./titanic/gender_submission.csv')"
   ]
  },
  {
   "cell_type": "code",
   "execution_count": 3,
   "id": "36f515eb",
   "metadata": {},
   "outputs": [
    {
     "data": {
      "text/html": [
       "<div>\n",
       "<style scoped>\n",
       "    .dataframe tbody tr th:only-of-type {\n",
       "        vertical-align: middle;\n",
       "    }\n",
       "\n",
       "    .dataframe tbody tr th {\n",
       "        vertical-align: top;\n",
       "    }\n",
       "\n",
       "    .dataframe thead th {\n",
       "        text-align: right;\n",
       "    }\n",
       "</style>\n",
       "<table border=\"1\" class=\"dataframe\">\n",
       "  <thead>\n",
       "    <tr style=\"text-align: right;\">\n",
       "      <th></th>\n",
       "      <th>PassengerId</th>\n",
       "      <th>Survived</th>\n",
       "      <th>Pclass</th>\n",
       "      <th>Name</th>\n",
       "      <th>Sex</th>\n",
       "      <th>Age</th>\n",
       "      <th>SibSp</th>\n",
       "      <th>Parch</th>\n",
       "      <th>Ticket</th>\n",
       "      <th>Fare</th>\n",
       "      <th>Cabin</th>\n",
       "      <th>Embarked</th>\n",
       "    </tr>\n",
       "  </thead>\n",
       "  <tbody>\n",
       "    <tr>\n",
       "      <th>0</th>\n",
       "      <td>1</td>\n",
       "      <td>0</td>\n",
       "      <td>3</td>\n",
       "      <td>Braund, Mr. Owen Harris</td>\n",
       "      <td>male</td>\n",
       "      <td>22.0</td>\n",
       "      <td>1</td>\n",
       "      <td>0</td>\n",
       "      <td>A/5 21171</td>\n",
       "      <td>7.2500</td>\n",
       "      <td>NaN</td>\n",
       "      <td>S</td>\n",
       "    </tr>\n",
       "    <tr>\n",
       "      <th>1</th>\n",
       "      <td>2</td>\n",
       "      <td>1</td>\n",
       "      <td>1</td>\n",
       "      <td>Cumings, Mrs. John Bradley (Florence Briggs Th...</td>\n",
       "      <td>female</td>\n",
       "      <td>38.0</td>\n",
       "      <td>1</td>\n",
       "      <td>0</td>\n",
       "      <td>PC 17599</td>\n",
       "      <td>71.2833</td>\n",
       "      <td>C85</td>\n",
       "      <td>C</td>\n",
       "    </tr>\n",
       "    <tr>\n",
       "      <th>2</th>\n",
       "      <td>3</td>\n",
       "      <td>1</td>\n",
       "      <td>3</td>\n",
       "      <td>Heikkinen, Miss. Laina</td>\n",
       "      <td>female</td>\n",
       "      <td>26.0</td>\n",
       "      <td>0</td>\n",
       "      <td>0</td>\n",
       "      <td>STON/O2. 3101282</td>\n",
       "      <td>7.9250</td>\n",
       "      <td>NaN</td>\n",
       "      <td>S</td>\n",
       "    </tr>\n",
       "    <tr>\n",
       "      <th>3</th>\n",
       "      <td>4</td>\n",
       "      <td>1</td>\n",
       "      <td>1</td>\n",
       "      <td>Futrelle, Mrs. Jacques Heath (Lily May Peel)</td>\n",
       "      <td>female</td>\n",
       "      <td>35.0</td>\n",
       "      <td>1</td>\n",
       "      <td>0</td>\n",
       "      <td>113803</td>\n",
       "      <td>53.1000</td>\n",
       "      <td>C123</td>\n",
       "      <td>S</td>\n",
       "    </tr>\n",
       "    <tr>\n",
       "      <th>4</th>\n",
       "      <td>5</td>\n",
       "      <td>0</td>\n",
       "      <td>3</td>\n",
       "      <td>Allen, Mr. William Henry</td>\n",
       "      <td>male</td>\n",
       "      <td>35.0</td>\n",
       "      <td>0</td>\n",
       "      <td>0</td>\n",
       "      <td>373450</td>\n",
       "      <td>8.0500</td>\n",
       "      <td>NaN</td>\n",
       "      <td>S</td>\n",
       "    </tr>\n",
       "  </tbody>\n",
       "</table>\n",
       "</div>"
      ],
      "text/plain": [
       "   PassengerId  Survived  Pclass  \\\n",
       "0            1         0       3   \n",
       "1            2         1       1   \n",
       "2            3         1       3   \n",
       "3            4         1       1   \n",
       "4            5         0       3   \n",
       "\n",
       "                                                Name     Sex   Age  SibSp  \\\n",
       "0                            Braund, Mr. Owen Harris    male  22.0      1   \n",
       "1  Cumings, Mrs. John Bradley (Florence Briggs Th...  female  38.0      1   \n",
       "2                             Heikkinen, Miss. Laina  female  26.0      0   \n",
       "3       Futrelle, Mrs. Jacques Heath (Lily May Peel)  female  35.0      1   \n",
       "4                           Allen, Mr. William Henry    male  35.0      0   \n",
       "\n",
       "   Parch            Ticket     Fare Cabin Embarked  \n",
       "0      0         A/5 21171   7.2500   NaN        S  \n",
       "1      0          PC 17599  71.2833   C85        C  \n",
       "2      0  STON/O2. 3101282   7.9250   NaN        S  \n",
       "3      0            113803  53.1000  C123        S  \n",
       "4      0            373450   8.0500   NaN        S  "
      ]
     },
     "execution_count": 3,
     "metadata": {},
     "output_type": "execute_result"
    }
   ],
   "source": [
    "train_data.head()"
   ]
  },
  {
   "cell_type": "code",
   "execution_count": 4,
   "id": "78b37be8",
   "metadata": {},
   "outputs": [
    {
     "name": "stdout",
     "output_type": "stream",
     "text": [
      "['PassengerId' 'Survived' 'Pclass' 'Name' 'Sex' 'Age' 'SibSp' 'Parch'\n",
      " 'Ticket' 'Fare' 'Cabin' 'Embarked']\n",
      "['PassengerId' 'Pclass' 'Name' 'Sex' 'Age' 'SibSp' 'Parch' 'Ticket' 'Fare'\n",
      " 'Cabin' 'Embarked']\n"
     ]
    }
   ],
   "source": [
    "# 칼럼 출력\n",
    "print(train_data.columns.values)\n",
    "print(test.columns.values)"
   ]
  },
  {
   "cell_type": "code",
   "execution_count": 5,
   "id": "e4ffc695",
   "metadata": {},
   "outputs": [
    {
     "data": {
      "text/plain": [
       "tensor([0, 1, 1, 1, 0, 0, 0, 0, 1, 1])"
      ]
     },
     "execution_count": 5,
     "metadata": {},
     "output_type": "execute_result"
    }
   ],
   "source": [
    "# 라벨 정의\n",
    "labels = train_data['Survived'].values\n",
    "labels = torch.tensor(labels)\n",
    "labels[0:10]"
   ]
  },
  {
   "cell_type": "code",
   "execution_count": 6,
   "id": "6980c534",
   "metadata": {},
   "outputs": [],
   "source": [
    "# 칼럼 제거 (Pclass, Sex, Age, Embarked 이용)\n",
    "train_df = train_data.drop(['PassengerId', 'Survived', 'Name', 'SibSp', 'Parch', 'Ticket', 'Fare', 'Cabin'], axis=1)\n",
    "test_df = test.drop(['PassengerId', 'Name', 'SibSp', 'Parch', 'Ticket', 'Fare', 'Cabin'], axis=1)"
   ]
  },
  {
   "cell_type": "code",
   "execution_count": 7,
   "id": "250dc699",
   "metadata": {},
   "outputs": [
    {
     "data": {
      "text/html": [
       "<div>\n",
       "<style scoped>\n",
       "    .dataframe tbody tr th:only-of-type {\n",
       "        vertical-align: middle;\n",
       "    }\n",
       "\n",
       "    .dataframe tbody tr th {\n",
       "        vertical-align: top;\n",
       "    }\n",
       "\n",
       "    .dataframe thead th {\n",
       "        text-align: right;\n",
       "    }\n",
       "</style>\n",
       "<table border=\"1\" class=\"dataframe\">\n",
       "  <thead>\n",
       "    <tr style=\"text-align: right;\">\n",
       "      <th></th>\n",
       "      <th>Pclass</th>\n",
       "      <th>Sex</th>\n",
       "      <th>Age</th>\n",
       "      <th>Embarked</th>\n",
       "    </tr>\n",
       "  </thead>\n",
       "  <tbody>\n",
       "    <tr>\n",
       "      <th>0</th>\n",
       "      <td>3</td>\n",
       "      <td>male</td>\n",
       "      <td>22.0</td>\n",
       "      <td>S</td>\n",
       "    </tr>\n",
       "    <tr>\n",
       "      <th>1</th>\n",
       "      <td>1</td>\n",
       "      <td>female</td>\n",
       "      <td>38.0</td>\n",
       "      <td>C</td>\n",
       "    </tr>\n",
       "    <tr>\n",
       "      <th>2</th>\n",
       "      <td>3</td>\n",
       "      <td>female</td>\n",
       "      <td>26.0</td>\n",
       "      <td>S</td>\n",
       "    </tr>\n",
       "    <tr>\n",
       "      <th>3</th>\n",
       "      <td>1</td>\n",
       "      <td>female</td>\n",
       "      <td>35.0</td>\n",
       "      <td>S</td>\n",
       "    </tr>\n",
       "    <tr>\n",
       "      <th>4</th>\n",
       "      <td>3</td>\n",
       "      <td>male</td>\n",
       "      <td>35.0</td>\n",
       "      <td>S</td>\n",
       "    </tr>\n",
       "    <tr>\n",
       "      <th>...</th>\n",
       "      <td>...</td>\n",
       "      <td>...</td>\n",
       "      <td>...</td>\n",
       "      <td>...</td>\n",
       "    </tr>\n",
       "    <tr>\n",
       "      <th>886</th>\n",
       "      <td>2</td>\n",
       "      <td>male</td>\n",
       "      <td>27.0</td>\n",
       "      <td>S</td>\n",
       "    </tr>\n",
       "    <tr>\n",
       "      <th>887</th>\n",
       "      <td>1</td>\n",
       "      <td>female</td>\n",
       "      <td>19.0</td>\n",
       "      <td>S</td>\n",
       "    </tr>\n",
       "    <tr>\n",
       "      <th>888</th>\n",
       "      <td>3</td>\n",
       "      <td>female</td>\n",
       "      <td>NaN</td>\n",
       "      <td>S</td>\n",
       "    </tr>\n",
       "    <tr>\n",
       "      <th>889</th>\n",
       "      <td>1</td>\n",
       "      <td>male</td>\n",
       "      <td>26.0</td>\n",
       "      <td>C</td>\n",
       "    </tr>\n",
       "    <tr>\n",
       "      <th>890</th>\n",
       "      <td>3</td>\n",
       "      <td>male</td>\n",
       "      <td>32.0</td>\n",
       "      <td>Q</td>\n",
       "    </tr>\n",
       "  </tbody>\n",
       "</table>\n",
       "<p>891 rows × 4 columns</p>\n",
       "</div>"
      ],
      "text/plain": [
       "     Pclass     Sex   Age Embarked\n",
       "0         3    male  22.0        S\n",
       "1         1  female  38.0        C\n",
       "2         3  female  26.0        S\n",
       "3         1  female  35.0        S\n",
       "4         3    male  35.0        S\n",
       "..      ...     ...   ...      ...\n",
       "886       2    male  27.0        S\n",
       "887       1  female  19.0        S\n",
       "888       3  female   NaN        S\n",
       "889       1    male  26.0        C\n",
       "890       3    male  32.0        Q\n",
       "\n",
       "[891 rows x 4 columns]"
      ]
     },
     "execution_count": 7,
     "metadata": {},
     "output_type": "execute_result"
    }
   ],
   "source": [
    "train_df"
   ]
  },
  {
   "cell_type": "code",
   "execution_count": 8,
   "id": "9406189c",
   "metadata": {},
   "outputs": [
    {
     "data": {
      "text/plain": [
       "Pclass        0\n",
       "Sex           0\n",
       "Age         177\n",
       "Embarked      2\n",
       "dtype: int64"
      ]
     },
     "execution_count": 8,
     "metadata": {},
     "output_type": "execute_result"
    }
   ],
   "source": [
    "train_df.isnull().sum() # null 개수 출력"
   ]
  },
  {
   "cell_type": "code",
   "execution_count": 9,
   "id": "2bfcff34",
   "metadata": {},
   "outputs": [
    {
     "data": {
      "text/plain": [
       "(0.42, 80.0)"
      ]
     },
     "execution_count": 9,
     "metadata": {},
     "output_type": "execute_result"
    }
   ],
   "source": [
    "min(train_df['Age']),max(train_df['Age']) # Age 최소값, 최댓값 출력"
   ]
  },
  {
   "cell_type": "code",
   "execution_count": 10,
   "id": "95c5c611",
   "metadata": {},
   "outputs": [],
   "source": [
    "# Train Age 그룹화\n",
    "train_df.loc[(train_df['Age'] > 0) & (train_df['Age'] <= 10), 'Age'] = 0\n",
    "train_df.loc[(train_df['Age'] > 10) & (train_df['Age'] <= 20), 'Age'] = 1\n",
    "train_df.loc[(train_df['Age'] > 20) & (train_df['Age'] <= 30), 'Age'] = 2\n",
    "train_df.loc[(train_df['Age'] > 30) & (train_df['Age'] <= 40), 'Age'] = 3\n",
    "train_df.loc[(train_df['Age'] > 40) & (train_df['Age'] <= 50), 'Age'] = 4\n",
    "train_df.loc[(train_df['Age'] > 50) & (train_df['Age'] <= 60), 'Age'] = 5\n",
    "train_df.loc[(train_df['Age'] > 60) & (train_df['Age'] <= 70), 'Age'] = 6\n",
    "train_df.loc[(train_df['Age'] > 70) & (train_df['Age'] <= 80), 'Age'] = 7\n",
    "\n",
    "# Train Age_null 칼럼 생성\n",
    "Age_null=train_df.Age.isnull()\n",
    "Age_null=pd.DataFrame(Age_null.replace({True: 1, False: 0}))\n",
    "Age_null=Age_null.rename(columns={'Age':'Age_null'})\n",
    "\n",
    "# Train Embarked_null 칼럼 생성\n",
    "Embarked_null=train_df.Embarked.isnull()\n",
    "Embarked_null=pd.DataFrame(Embarked_null.replace({True: 1, False: 0}))\n",
    "Embarked_null=Embarked_null.rename(columns={'Embarked':'Embarked_null'})\n",
    "\n",
    "# Train 칼럼 분해 (True = 1, False = 0), 생성한 칼럼 추가\n",
    "train_df=pd.get_dummies(data = train_df, columns = ['Sex'], prefix = 'Sex')\n",
    "train_df=pd.get_dummies(data = train_df, columns = ['Age'], prefix = 'Age')\n",
    "train_df = pd.concat([train_df,Age_null],axis=1)\n",
    "train_df=pd.get_dummies(data = train_df, columns = ['Pclass'], prefix = 'Pclass')\n",
    "train_df=pd.get_dummies(data = train_df, columns = ['Embarked'], prefix = 'Embarked')\n",
    "train_df = pd.concat([train_df,Embarked_null],axis=1)"
   ]
  },
  {
   "cell_type": "code",
   "execution_count": 11,
   "id": "132faab2",
   "metadata": {},
   "outputs": [],
   "source": [
    "# Test Age 그룹화\n",
    "test_df.loc[(test_df['Age'] > 0) & (test_df['Age'] <= 10), 'Age'] = 0\n",
    "test_df.loc[(test_df['Age'] > 10) & (test_df['Age'] <= 20), 'Age'] = 1\n",
    "test_df.loc[(test_df['Age'] > 20) & (test_df['Age'] <= 30), 'Age'] = 2\n",
    "test_df.loc[(test_df['Age'] > 30) & (test_df['Age'] <= 40), 'Age'] = 3\n",
    "test_df.loc[(test_df['Age'] > 40) & (test_df['Age'] <= 50), 'Age'] = 4\n",
    "test_df.loc[(test_df['Age'] > 50) & (test_df['Age'] <= 60), 'Age'] = 5\n",
    "test_df.loc[(test_df['Age'] > 60) & (test_df['Age'] <= 70), 'Age'] = 6\n",
    "test_df.loc[(test_df['Age'] > 70) & (test_df['Age'] <= 80), 'Age'] = 7\n",
    "\n",
    "# Test Age_null 칼럼 생성\n",
    "Age_null=test_df.Age.isnull()\n",
    "Age_null=pd.DataFrame(Age_null.replace({True: 1, False: 0}))\n",
    "Age_null=Age_null.rename(columns={'Age':'Age_null'})\n",
    "\n",
    "# Test Embarked_null 칼럼 생성\n",
    "Embarked_null=test_df.Embarked.isnull()\n",
    "Embarked_null=pd.DataFrame(Embarked_null.replace({True: 1, False: 0}))\n",
    "Embarked_null=Embarked_null.rename(columns={'Embarked':'Embarked_null'})\n",
    "\n",
    "# Test 칼럼 분해 (True = 1, False = 0), 생성한 칼럼 추가\n",
    "test_df=pd.get_dummies(data = test_df, columns = ['Sex'], prefix = 'Sex')\n",
    "test_df=pd.get_dummies(data = test_df, columns = ['Age'], prefix = 'Age')\n",
    "test_df = pd.concat([test_df,Age_null],axis=1)\n",
    "test_df=pd.get_dummies(data = test_df, columns = ['Pclass'], prefix = 'Pclass')\n",
    "test_df=pd.get_dummies(data = test_df, columns = ['Embarked'], prefix = 'Embarked')\n",
    "test_df = pd.concat([test_df,Embarked_null],axis=1)"
   ]
  },
  {
   "cell_type": "code",
   "execution_count": 12,
   "id": "d766780b",
   "metadata": {},
   "outputs": [
    {
     "data": {
      "text/plain": [
       "SVC(C=1, gamma=0.1, kernel='linear')"
      ]
     },
     "execution_count": 12,
     "metadata": {},
     "output_type": "execute_result"
    }
   ],
   "source": [
    "# Regression\n",
    "model = SVC(kernel = 'linear', C=1, gamma = 0.1)\n",
    "model.fit(train_df,labels)"
   ]
  },
  {
   "cell_type": "code",
   "execution_count": 13,
   "id": "6a21636b",
   "metadata": {},
   "outputs": [],
   "source": [
    "# Test Survived values to DataFrame \n",
    "survived=pd.DataFrame(model.predict(test_df)).rename(columns={0:'Survived'})"
   ]
  },
  {
   "cell_type": "code",
   "execution_count": 14,
   "id": "8a8a61bb",
   "metadata": {},
   "outputs": [
    {
     "data": {
      "text/plain": [
       "(torch.Size([891, 18]), torch.Size([418, 18]))"
      ]
     },
     "execution_count": 14,
     "metadata": {},
     "output_type": "execute_result"
    }
   ],
   "source": [
    "# Train, Test 데이터 정의, 타입 변경\n",
    "train_data=train_df.values\n",
    "train_data=torch.from_numpy(train_data.astype('float32'))\n",
    "test_data=test_df.astype({'Embarked_null':'int64'}).values\n",
    "test_data=torch.from_numpy(test_data.astype('float32'))\n",
    "train_data.shape, test_data.shape"
   ]
  },
  {
   "cell_type": "code",
   "execution_count": 15,
   "id": "a0a070bc",
   "metadata": {},
   "outputs": [
    {
     "name": "stdout",
     "output_type": "stream",
     "text": [
      "Sequential(\n",
      "  (0): Linear(in_features=18, out_features=64, bias=True)\n",
      "  (1): ReLU()\n",
      "  (2): Linear(in_features=64, out_features=2, bias=True)\n",
      "  (3): Softmax(dim=1)\n",
      ")\n"
     ]
    }
   ],
   "source": [
    "# 모델 정의\n",
    "model = torch.nn.Sequential(\n",
    "    torch.nn.Linear(18, 64),\n",
    "    torch.nn.ReLU(),\n",
    "    torch.nn.Linear(64, 2),\n",
    "    torch.nn.Softmax(dim=1)\n",
    ")\n",
    "print(model)"
   ]
  },
  {
   "cell_type": "code",
   "execution_count": 16,
   "id": "cad311fe",
   "metadata": {},
   "outputs": [],
   "source": [
    "# learning_rate, criterion, optimizer 정의\n",
    "learning_rate = 1e-4\n",
    "criterion = torch.nn.CrossEntropyLoss()\n",
    "optimizer = torch.optim.Adam(model.parameters(),lr=learning_rate)"
   ]
  },
  {
   "cell_type": "code",
   "execution_count": 15,
   "id": "e9c7e490",
   "metadata": {
    "scrolled": false
   },
   "outputs": [
    {
     "name": "stdout",
     "output_type": "stream",
     "text": [
      "\n",
      " Train Epoch: 0 \tLoss: 0.712820 \tAccuracy: 36.139169\n",
      "\n",
      " Train Epoch: 100 \tLoss: 0.689513 \tAccuracy: 53.423119\n",
      "\n",
      " Train Epoch: 200 \tLoss: 0.666501 \tAccuracy: 70.594835\n",
      "\n",
      " Train Epoch: 300 \tLoss: 0.641710 \tAccuracy: 74.859709\n",
      "\n",
      " Train Epoch: 400 \tLoss: 0.615730 \tAccuracy: 77.104378\n",
      "\n",
      " Train Epoch: 500 \tLoss: 0.589983 \tAccuracy: 80.583614\n",
      "\n",
      " Train Epoch: 600 \tLoss: 0.567231 \tAccuracy: 80.471379\n",
      "\n",
      " Train Epoch: 700 \tLoss: 0.548929 \tAccuracy: 80.246913\n",
      "\n",
      " Train Epoch: 800 \tLoss: 0.534943 \tAccuracy: 80.583614\n",
      "\n",
      " Train Epoch: 900 \tLoss: 0.524601 \tAccuracy: 80.583614\n"
     ]
    }
   ],
   "source": [
    "# Training\n",
    "for epoch in range(1000): \n",
    "    pred = model(train_data)\n",
    "    loss = criterion(pred, labels) \n",
    "    optimizer.zero_grad()  \n",
    "    loss.backward() \n",
    "    optimizer.step()\n",
    "    \n",
    "    correct = pred.max(1)[1] == labels # True인지 False인지 판단\n",
    "    accuracy = correct.sum()/labels.size(0) # 정확도 계산\n",
    "    \n",
    "    if epoch % 100 == 0:\n",
    "        print(f\"\\n Train Epoch: {epoch} \\tLoss: {loss.item():.6f} \\tAccuracy: {accuracy.item()*100:.6f}\")"
   ]
  },
  {
   "cell_type": "code",
   "execution_count": 17,
   "id": "a483d030",
   "metadata": {},
   "outputs": [],
   "source": [
    "# Test, gender_submission 로드\n",
    "test = pd.read_csv('./titanic/test.csv')\n",
    "gender_submission = pd.read_csv('./titanic/gender_submission.csv')"
   ]
  },
  {
   "cell_type": "code",
   "execution_count": 17,
   "id": "1b0ebc16",
   "metadata": {},
   "outputs": [],
   "source": [
    "# Test Survived values to DataFrame \n",
    "Survived=pd.DataFrame(model(test_data).max(1)[1]).rename(columns={0:'Survived'})"
   ]
  },
  {
   "cell_type": "code",
   "execution_count": 18,
   "id": "cb18722e",
   "metadata": {},
   "outputs": [],
   "source": [
    "# PassengerId를 제외한 칼럼 제거\n",
    "test_df = test.drop(['Pclass', 'Name', 'Sex', 'Age', 'SibSp', 'Parch', 'Ticket', 'Fare', 'Cabin', 'Embarked'], axis=1)"
   ]
  },
  {
   "cell_type": "code",
   "execution_count": 19,
   "id": "00d0d455",
   "metadata": {},
   "outputs": [
    {
     "data": {
      "text/html": [
       "<div>\n",
       "<style scoped>\n",
       "    .dataframe tbody tr th:only-of-type {\n",
       "        vertical-align: middle;\n",
       "    }\n",
       "\n",
       "    .dataframe tbody tr th {\n",
       "        vertical-align: top;\n",
       "    }\n",
       "\n",
       "    .dataframe thead th {\n",
       "        text-align: right;\n",
       "    }\n",
       "</style>\n",
       "<table border=\"1\" class=\"dataframe\">\n",
       "  <thead>\n",
       "    <tr style=\"text-align: right;\">\n",
       "      <th></th>\n",
       "      <th>PassengerId</th>\n",
       "      <th>Survived</th>\n",
       "    </tr>\n",
       "  </thead>\n",
       "  <tbody>\n",
       "    <tr>\n",
       "      <th>0</th>\n",
       "      <td>892</td>\n",
       "      <td>0</td>\n",
       "    </tr>\n",
       "    <tr>\n",
       "      <th>1</th>\n",
       "      <td>893</td>\n",
       "      <td>1</td>\n",
       "    </tr>\n",
       "    <tr>\n",
       "      <th>2</th>\n",
       "      <td>894</td>\n",
       "      <td>0</td>\n",
       "    </tr>\n",
       "    <tr>\n",
       "      <th>3</th>\n",
       "      <td>895</td>\n",
       "      <td>0</td>\n",
       "    </tr>\n",
       "    <tr>\n",
       "      <th>4</th>\n",
       "      <td>896</td>\n",
       "      <td>1</td>\n",
       "    </tr>\n",
       "    <tr>\n",
       "      <th>...</th>\n",
       "      <td>...</td>\n",
       "      <td>...</td>\n",
       "    </tr>\n",
       "    <tr>\n",
       "      <th>413</th>\n",
       "      <td>1305</td>\n",
       "      <td>0</td>\n",
       "    </tr>\n",
       "    <tr>\n",
       "      <th>414</th>\n",
       "      <td>1306</td>\n",
       "      <td>1</td>\n",
       "    </tr>\n",
       "    <tr>\n",
       "      <th>415</th>\n",
       "      <td>1307</td>\n",
       "      <td>0</td>\n",
       "    </tr>\n",
       "    <tr>\n",
       "      <th>416</th>\n",
       "      <td>1308</td>\n",
       "      <td>0</td>\n",
       "    </tr>\n",
       "    <tr>\n",
       "      <th>417</th>\n",
       "      <td>1309</td>\n",
       "      <td>0</td>\n",
       "    </tr>\n",
       "  </tbody>\n",
       "</table>\n",
       "<p>418 rows × 2 columns</p>\n",
       "</div>"
      ],
      "text/plain": [
       "     PassengerId  Survived\n",
       "0            892         0\n",
       "1            893         1\n",
       "2            894         0\n",
       "3            895         0\n",
       "4            896         1\n",
       "..           ...       ...\n",
       "413         1305         0\n",
       "414         1306         1\n",
       "415         1307         0\n",
       "416         1308         0\n",
       "417         1309         0\n",
       "\n",
       "[418 rows x 2 columns]"
      ]
     },
     "execution_count": 19,
     "metadata": {},
     "output_type": "execute_result"
    }
   ],
   "source": [
    "# PassengerId에 rSurvived 붙이기\n",
    "test_df_SCV = pd.concat([test_df,survived],axis=1)\n",
    "test_df_SCV"
   ]
  },
  {
   "cell_type": "code",
   "execution_count": 19,
   "id": "b359fda1",
   "metadata": {},
   "outputs": [
    {
     "data": {
      "text/html": [
       "<div>\n",
       "<style scoped>\n",
       "    .dataframe tbody tr th:only-of-type {\n",
       "        vertical-align: middle;\n",
       "    }\n",
       "\n",
       "    .dataframe tbody tr th {\n",
       "        vertical-align: top;\n",
       "    }\n",
       "\n",
       "    .dataframe thead th {\n",
       "        text-align: right;\n",
       "    }\n",
       "</style>\n",
       "<table border=\"1\" class=\"dataframe\">\n",
       "  <thead>\n",
       "    <tr style=\"text-align: right;\">\n",
       "      <th></th>\n",
       "      <th>PassengerId</th>\n",
       "      <th>Survived</th>\n",
       "    </tr>\n",
       "  </thead>\n",
       "  <tbody>\n",
       "    <tr>\n",
       "      <th>0</th>\n",
       "      <td>892</td>\n",
       "      <td>0</td>\n",
       "    </tr>\n",
       "    <tr>\n",
       "      <th>1</th>\n",
       "      <td>893</td>\n",
       "      <td>0</td>\n",
       "    </tr>\n",
       "    <tr>\n",
       "      <th>2</th>\n",
       "      <td>894</td>\n",
       "      <td>0</td>\n",
       "    </tr>\n",
       "    <tr>\n",
       "      <th>3</th>\n",
       "      <td>895</td>\n",
       "      <td>0</td>\n",
       "    </tr>\n",
       "    <tr>\n",
       "      <th>4</th>\n",
       "      <td>896</td>\n",
       "      <td>1</td>\n",
       "    </tr>\n",
       "    <tr>\n",
       "      <th>...</th>\n",
       "      <td>...</td>\n",
       "      <td>...</td>\n",
       "    </tr>\n",
       "    <tr>\n",
       "      <th>413</th>\n",
       "      <td>1305</td>\n",
       "      <td>0</td>\n",
       "    </tr>\n",
       "    <tr>\n",
       "      <th>414</th>\n",
       "      <td>1306</td>\n",
       "      <td>1</td>\n",
       "    </tr>\n",
       "    <tr>\n",
       "      <th>415</th>\n",
       "      <td>1307</td>\n",
       "      <td>0</td>\n",
       "    </tr>\n",
       "    <tr>\n",
       "      <th>416</th>\n",
       "      <td>1308</td>\n",
       "      <td>0</td>\n",
       "    </tr>\n",
       "    <tr>\n",
       "      <th>417</th>\n",
       "      <td>1309</td>\n",
       "      <td>0</td>\n",
       "    </tr>\n",
       "  </tbody>\n",
       "</table>\n",
       "<p>418 rows × 2 columns</p>\n",
       "</div>"
      ],
      "text/plain": [
       "     PassengerId  Survived\n",
       "0            892         0\n",
       "1            893         0\n",
       "2            894         0\n",
       "3            895         0\n",
       "4            896         1\n",
       "..           ...       ...\n",
       "413         1305         0\n",
       "414         1306         1\n",
       "415         1307         0\n",
       "416         1308         0\n",
       "417         1309         0\n",
       "\n",
       "[418 rows x 2 columns]"
      ]
     },
     "execution_count": 19,
     "metadata": {},
     "output_type": "execute_result"
    }
   ],
   "source": [
    "# PassengerId에 Survived 붙이기\n",
    "test_df_ML = pd.concat([test_df,Survived],axis=1)\n",
    "test_df_ML"
   ]
  },
  {
   "cell_type": "code",
   "execution_count": 20,
   "id": "65fa15c3",
   "metadata": {},
   "outputs": [
    {
     "data": {
      "text/plain": [
       "100.0"
      ]
     },
     "execution_count": 20,
     "metadata": {},
     "output_type": "execute_result"
    }
   ],
   "source": [
    "# Regression Test 정확도 계산\n",
    "correct = test_df_SCV['Survived'].values == gender_submission['Survived'].values\n",
    "correct.sum()/len(test_df)*100"
   ]
  },
  {
   "cell_type": "code",
   "execution_count": 21,
   "id": "1836c6c9",
   "metadata": {},
   "outputs": [],
   "source": [
    "# Test csv 저장\n",
    "test_df_SCV.to_csv('./titanic/titanic_SCV.csv', index=False)"
   ]
  },
  {
   "cell_type": "code",
   "execution_count": 20,
   "id": "4937b0cf",
   "metadata": {},
   "outputs": [
    {
     "data": {
      "text/plain": [
       "97.36842105263158"
      ]
     },
     "execution_count": 20,
     "metadata": {},
     "output_type": "execute_result"
    }
   ],
   "source": [
    "# ML Test 정확도 계산\n",
    "correct = test_df_ML['Survived'].values == gender_submission['Survived'].values\n",
    "correct.sum()/len(test_df)*100"
   ]
  },
  {
   "cell_type": "code",
   "execution_count": 21,
   "id": "46c3df66",
   "metadata": {},
   "outputs": [],
   "source": [
    "# Test csv 저장\n",
    "test_df_ML.to_csv('./titanic/titanic_ML.csv', index=False)"
   ]
  },
  {
   "cell_type": "markdown",
   "id": "46b51aa2",
   "metadata": {},
   "source": [
    "# 2. Image classification with CNN\n",
    "\n",
    "* cnn을 이용하여 다음 이미지를 분류하여라.\n",
    "* 인풋 데이터는 rgb 정보를 가지고 있다.\n",
    "* 코드, 결과, 보고서를 함께 제출하여야 한다."
   ]
  },
  {
   "cell_type": "code",
   "execution_count": 22,
   "id": "2ad635c7",
   "metadata": {},
   "outputs": [],
   "source": [
    "import torch\n",
    "import torch.nn as nn\n",
    "import torch.nn.functional as F\n",
    "import torch.optim as optim\n",
    "\n",
    "import torchvision\n",
    "from torch.utils.data import Dataset, DataLoader\n",
    "import math\n",
    "\n",
    "import numpy as np\n",
    "import matplotlib.pyplot as plt\n",
    "%matplotlib inline\n",
    "\n",
    "from torchvision import datasets\n",
    "import torchvision.transforms as transforms\n",
    "\n",
    "torch.set_printoptions(linewidth=120)\n",
    "import time"
   ]
  },
  {
   "cell_type": "code",
   "execution_count": 23,
   "id": "cf871e02",
   "metadata": {},
   "outputs": [
    {
     "name": "stdout",
     "output_type": "stream",
     "text": [
      "Files already downloaded and verified\n",
      "Files already downloaded and verified\n",
      "0.49139965 0.48215845 0.4465309\n",
      "0.20220213 0.19931543 0.20086348\n"
     ]
    }
   ],
   "source": [
    "import numpy as np\n",
    "import matplotlib.pyplot as plt\n",
    "import torch\n",
    "import torchvision\n",
    "from torchvision.transforms import ToTensor\n",
    "\n",
    "trainset = torchvision.datasets.CIFAR10(\n",
    "    root='./data', \n",
    "    train=True,\n",
    "    download=True, \n",
    "    transform=torchvision.transforms.ToTensor()\n",
    ")\n",
    "\n",
    "\n",
    "testset = torchvision.datasets.CIFAR10(\n",
    "    root='./data', \n",
    "    train=False,\n",
    "    download=True, \n",
    "    transform=torchvision.transforms.ToTensor()\n",
    ")\n",
    "\n",
    "# 평균과 분산 계산\n",
    "mean = [np.mean(x.numpy(), axis=(1,2)) for x,_ in trainset]\n",
    "std = [np.std(x.numpy(), axis=(1,2)) for x,_ in trainset]\n",
    "\n",
    "mean0 = np.mean([m[0] for m in mean])\n",
    "mean1 = np.mean([m[1] for m in mean])\n",
    "mean2 = np.mean([m[2] for m in mean])\n",
    "\n",
    "std0 = np.mean([s[0] for s in std])\n",
    "std1 = np.mean([s[1] for s in std])\n",
    "std2 = np.mean([s[2] for s in std])\n",
    "\n",
    "print(mean0, mean1, mean2)\n",
    "print(std0, std1, std2)"
   ]
  },
  {
   "cell_type": "code",
   "execution_count": 24,
   "id": "52dd26e5",
   "metadata": {},
   "outputs": [
    {
     "data": {
      "text/plain": [
       "['airplane',\n",
       " 'automobile',\n",
       " 'bird',\n",
       " 'cat',\n",
       " 'deer',\n",
       " 'dog',\n",
       " 'frog',\n",
       " 'horse',\n",
       " 'ship',\n",
       " 'truck']"
      ]
     },
     "execution_count": 24,
     "metadata": {},
     "output_type": "execute_result"
    }
   ],
   "source": [
    "trainset = torchvision.datasets.CIFAR10(\n",
    "    root='./data', \n",
    "    train=True, \n",
    "    transform=transforms.Compose([\n",
    "                       transforms.ToTensor(),\n",
    "                       transforms.Normalize((mean0,mean1,mean2), (std0,std1,std2)) # 계산된 평균과 분산을 이용하여 Normalize\n",
    "                   ])\n",
    ")\n",
    "\n",
    "\n",
    "testset = torchvision.datasets.CIFAR10(\n",
    "    root='./data', \n",
    "    train=False, \n",
    "    transform=transforms.Compose([\n",
    "                       transforms.ToTensor(),\n",
    "                       transforms.Normalize((mean0,mean1,mean2), (std0,std1,std2)) # 계산된 평균과 분산을 이용하여 Normalize\n",
    "                   ])\n",
    ")\n",
    "\n",
    "batch_size = 32\n",
    "\n",
    "train_loader = torch.utils.data.DataLoader(\n",
    "    trainset, \n",
    "    batch_size=batch_size,\n",
    "    shuffle=True\n",
    ")\n",
    "test_loader = torch.utils.data.DataLoader(\n",
    "    testset, \n",
    "    batch_size=batch_size,\n",
    "    shuffle=False\n",
    ")\n",
    "classes = trainset.classes\n",
    "classes"
   ]
  },
  {
   "cell_type": "code",
   "execution_count": 25,
   "id": "6aaffb61",
   "metadata": {},
   "outputs": [
    {
     "name": "stderr",
     "output_type": "stream",
     "text": [
      "Clipping input data to the valid range for imshow with RGB data ([0..1] for floats or [0..255] for integers).\n"
     ]
    },
    {
     "data": {
      "text/plain": [
       "<matplotlib.image.AxesImage at 0x7f08e13a5f70>"
      ]
     },
     "execution_count": 25,
     "metadata": {},
     "output_type": "execute_result"
    },
    {
     "data": {
      "image/png": "[encoded data removed]",
      "text/plain": [
       "<Figure size 432x288 with 1 Axes>"
      ]
     },
     "metadata": {
      "needs_background": "light"
     },
     "output_type": "display_data"
    }
   ],
   "source": [
    "import matplotlib.pyplot as plt\n",
    "\n",
    "images=train_loader.dataset[1][0]\n",
    "plt.imshow(images.permute(1, 2, 0))"
   ]
  },
  {
   "cell_type": "code",
   "execution_count": 26,
   "id": "032a4cc0",
   "metadata": {},
   "outputs": [],
   "source": [
    "class Network(nn.Module):\n",
    "    def __init__(self):\n",
    "        super(Network, self).__init__()\n",
    "        \n",
    "        self.layer1 = nn.Sequential(\n",
    "            nn.Conv2d(3, 32, kernel_size=3, padding=1),   # _, 32, 32, 32         \n",
    "            nn.BatchNorm2d(32),\n",
    "            nn.ReLU(inplace=True),\n",
    "            nn.Conv2d(32, 32, kernel_size=3, padding=1),  # _, 32, 32, 32 \n",
    "            nn.BatchNorm2d(32),            \n",
    "            nn.ReLU(inplace=True),\n",
    "            nn.MaxPool2d(2), # _, 32, 16, 16 \n",
    "            nn.Dropout(0.3)\n",
    "        )\n",
    "        \n",
    "        self.layer2 = nn.Sequential(\n",
    "            nn.Conv2d(32, 64, kernel_size=3, padding=1),  # _, 64, 16, 16           \n",
    "            nn.BatchNorm2d(64),\n",
    "            nn.ReLU(inplace=True),\n",
    "            nn.Conv2d(64, 64, kernel_size=3, padding=1),  # _, 64, 16, 16 \n",
    "            nn.BatchNorm2d(64),            \n",
    "            nn.ReLU(inplace=True),\n",
    "            nn.MaxPool2d(2), # _, 64, 8, 8 \n",
    "            nn.Dropout(0.5)\n",
    "        )\n",
    "\n",
    "        self.layer3 = nn.Sequential(\n",
    "            nn.Conv2d(64, 128, kernel_size=3, padding=1), # _, 128, 8, 8             \n",
    "            nn.BatchNorm2d(128),\n",
    "            nn.ReLU(inplace=True),\n",
    "            nn.Conv2d(128, 128, kernel_size=3, padding=1), # _, 128, 8, 8 \n",
    "            nn.BatchNorm2d(128),            \n",
    "            nn.ReLU(inplace=True),\n",
    "            nn.MaxPool2d(2), # _, 128, 4, 4 \n",
    "            nn.Dropout(0.5)\n",
    "        )\n",
    "        \n",
    "        self.fc = nn.Sequential(\n",
    "            nn.Linear(128*4*4, 128),\n",
    "            nn.BatchNorm1d(128),\n",
    "            nn.ReLU(inplace=True),\n",
    "            nn.Dropout(0.5),\n",
    "            nn.Linear(128, 10),\n",
    "            nn.Softmax(dim=1)\n",
    "        )\n",
    "\n",
    "    def forward(self, x):\n",
    "        x = self.layer1(x)\n",
    "        x = self.layer2(x)\n",
    "        x = self.layer3(x)\n",
    "        x = torch.flatten(x, 1)\n",
    "        x = self.fc(x)\n",
    "    \n",
    "        return x"
   ]
  },
  {
   "cell_type": "code",
   "execution_count": 27,
   "id": "1d1e539d",
   "metadata": {},
   "outputs": [],
   "source": [
    "device = torch.device(\"cuda\" if torch.cuda.is_available() else \"cpu\")\n",
    "\n",
    "model = Network().to(device) # Network로 model 정의\n",
    "optimizer = optim.Adam(model.parameters(), lr=1e-4, weight_decay=3e-3)"
   ]
  },
  {
   "cell_type": "code",
   "execution_count": 28,
   "id": "aefa0c3d",
   "metadata": {},
   "outputs": [],
   "source": [
    "def train(model, epoch, train_loader, device, optimizer):\n",
    "    model.train()\n",
    "    for batch_i, (data, target) in enumerate(train_loader):\n",
    "        data, target = data.to(device), target.to(device)\n",
    "        optimizer.zero_grad() # 변화도를 0으로 만듦\n",
    "        \n",
    "        output = model(data)\n",
    "        loss = F.cross_entropy(output, target)\n",
    "        \n",
    "        loss.backward() # 역전파 단계를 수행\n",
    "        optimizer.step() # 가중치를 갱신\n",
    "        \n",
    "    if epoch % 20 == 0:        \n",
    "        print(f\"\\n Train Epoch: {epoch} \\tLoss: {loss.item():.6f}\") # epoch 20의 배수마다 결과 출력\n",
    "    return loss"
   ]
  },
  {
   "cell_type": "code",
   "execution_count": 29,
   "id": "0d2b4574",
   "metadata": {},
   "outputs": [],
   "source": [
    "def test(model, epoch, test_loader, device):\n",
    "    model.eval()\n",
    "    loss = 0\n",
    "    correct = 0\n",
    "    with torch.no_grad():\n",
    "        for batch_i, (data, target) in enumerate(test_loader):\n",
    "            data, target = data.to(device), target.to(device)\n",
    "            output = model(data)\n",
    "            loss = F.cross_entropy(output, target)\n",
    "            pred = output.argmax(dim=1, keepdim=True) # 확률이 가장 큰 라벨 추론\n",
    "            correct += pred.eq(target.view_as(pred)).sum().item() # target과 비교 후 True 개수 세기\n",
    "            Accuracy = 100. * correct / len(test_loader.dataset) # 정확도 계산\n",
    "    if epoch % 20 == 0:\n",
    "        print(f\"\\nTest set: loss: {loss.item():.6f}, Accuracy: {correct}/{len(test_loader.dataset)}({(100. * correct / len(test_loader.dataset)):.2f}%)\\n\") # epoch 20의 배수마다 결과 출력\n",
    "    return loss, Accuracy"
   ]
  },
  {
   "cell_type": "code",
   "execution_count": 30,
   "id": "df2d4241",
   "metadata": {},
   "outputs": [],
   "source": [
    "train_loss=[]\n",
    "test_loss=[]\n",
    "test_Accuracy = []\n",
    "def main():\n",
    "    best_Accuracy = 0\n",
    "    Accuracy = 0\n",
    "    i = 0\n",
    "    for epoch in range(1, epochs+1):\n",
    "        best_Accuracy = max(best_Accuracy,Accuracy)  \n",
    "        loss=train(model, epoch, train_loader, device, optimizer)\n",
    "        train_loss.append(loss.detach())\n",
    "        loss,Accuracy=test(model, epoch, test_loader, device)\n",
    "        test_loss.append(loss)\n",
    "        test_Accuracy.append(Accuracy)\n",
    "        \n",
    "        # best_Accuracy가 30번 동안 갱신이 안되면 train 멈춤\n",
    "        if best_Accuracy >= Accuracy:\n",
    "            i = i+1\n",
    "        elif best_Accuracy < Accuracy:\n",
    "            i = 0  \n",
    "        if i == 30:\n",
    "            break\n",
    "    print(f\"\\nBest Accuracy: {max(test_Accuracy):.6f}\\n\")"
   ]
  },
  {
   "cell_type": "code",
   "execution_count": 31,
   "id": "023b6f97",
   "metadata": {},
   "outputs": [
    {
     "name": "stdout",
     "output_type": "stream",
     "text": [
      "\n",
      " Train Epoch: 20 \tLoss: 1.779206\n",
      "\n",
      "Test set: loss: 1.646631, Accuracy: 8094/10000(80.94%)\n",
      "\n",
      "\n",
      " Train Epoch: 40 \tLoss: 1.753926\n",
      "\n",
      "Test set: loss: 1.678387, Accuracy: 8410/10000(84.10%)\n",
      "\n",
      "\n",
      " Train Epoch: 60 \tLoss: 1.746634\n",
      "\n",
      "Test set: loss: 1.607362, Accuracy: 8432/10000(84.32%)\n",
      "\n",
      "\n",
      " Train Epoch: 80 \tLoss: 1.676470\n",
      "\n",
      "Test set: loss: 1.594226, Accuracy: 8461/10000(84.61%)\n",
      "\n",
      "\n",
      " Train Epoch: 100 \tLoss: 1.862911\n",
      "\n",
      "Test set: loss: 1.567532, Accuracy: 8461/10000(84.61%)\n",
      "\n",
      "\n",
      " Train Epoch: 120 \tLoss: 1.563278\n",
      "\n",
      "Test set: loss: 1.563121, Accuracy: 8439/10000(84.39%)\n",
      "\n",
      "\n",
      " Train Epoch: 140 \tLoss: 1.838419\n",
      "\n",
      "Test set: loss: 1.531235, Accuracy: 8508/10000(85.08%)\n",
      "\n",
      "\n",
      " Train Epoch: 160 \tLoss: 1.771715\n",
      "\n",
      "Test set: loss: 1.614954, Accuracy: 8609/10000(86.09%)\n",
      "\n",
      "\n",
      " Train Epoch: 180 \tLoss: 1.616829\n",
      "\n",
      "Test set: loss: 1.492957, Accuracy: 8522/10000(85.22%)\n",
      "\n",
      "\n",
      "Best Accuracy: 86.090000\n",
      "\n"
     ]
    }
   ],
   "source": [
    "epochs=1000\n",
    "main()"
   ]
  },
  {
   "cell_type": "code",
   "execution_count": 32,
   "id": "c427ba35",
   "metadata": {},
   "outputs": [
    {
     "data": {
      "text/plain": [
       "<matplotlib.legend.Legend at 0x7f08e138d9d0>"
      ]
     },
     "execution_count": 32,
     "metadata": {},
     "output_type": "execute_result"
    },
    {
     "data": {
      "image/png": "[encoded data removed]",
      "text/plain": [
       "<Figure size 432x288 with 1 Axes>"
      ]
     },
     "metadata": {
      "needs_background": "light"
     },
     "output_type": "display_data"
    }
   ],
   "source": [
    "plt.plot(test_Accuracy,label='test_Accuracy')\n",
    "plt.legend()"
   ]
  },
  {
   "cell_type": "code",
   "execution_count": 33,
   "id": "c8ab1dc2",
   "metadata": {},
   "outputs": [
    {
     "data": {
      "text/plain": [
       "<matplotlib.legend.Legend at 0x7f08e004c6a0>"
      ]
     },
     "execution_count": 33,
     "metadata": {},
     "output_type": "execute_result"
    },
    {
     "data": {
      "image/png": "[encoded data removed]",
      "text/plain": [
       "<Figure size 432x288 with 1 Axes>"
      ]
     },
     "metadata": {
      "needs_background": "light"
     },
     "output_type": "display_data"
    }
   ],
   "source": [
    "plt.plot(train_loss,label='train_loss')\n",
    "plt.plot(test_loss,label='test_loss')\n",
    "plt.legend()"
   ]
  },
  {
   "cell_type": "markdown",
   "id": "988f8ff6",
   "metadata": {},
   "source": [
    "torchvision.datasets을 이용해서 ./data 폴더에 있는 CIFAR-10을 불러온다. 처음에는 Nomarlize을 하기 위한 mean과 std를 모르기 때문에 기존의 데이터에서 계산한다. 이때 train data만 이용해야한다. 계산된 mean과 std를 train data와 test data에 적용하여 데이터를 Nomarlize 시킨다. Batch size는 32로 했으며, train_loader만 shuffle을 True로 설정한다.\n",
    "\n",
    "기존의 (32,3,32,32) 데이터가 네트워크로 들어오면 self.layer1을 통과하면서 (32,32,16,16)으로 바뀐다. 자세히 설명해보면,   (32,3,32,32) 데이터가 Conv2d를 통과하면서 R,G,B 세 개의 채널이 32개의 채널로 늘어난다. 컨볼루션은 해당하는 요소끼리 곱해서 결과를 모두 더하는 선형 연산이다. Kernel size를 3, stride는 입력하지 않았기 때문에 기본값인 1이고,  컨볼루션을 통과하면서 dimension이 (32,32,30,30)이 되어야 하지만, padding을 1로 했기 때문에 이미지 크기의 dimension이 (32,32)로 변하지 않는다. 이 데이터는 BatchNorm2d(32)와 ReLU(inplace=True)를 통과하게 되는데, BatchNorm2d는 학습 과정에서 각 배치 단위 별로 데이터가 다양한 분포를 가지더라고 각 배치별로 평균과 분산을 이용해 정규화시킨다. ReLU는 Activation Function으로, 비선형 함수이다. 선형 함수가 아니라 비선형 함수를 사용하는 이유는 딥러닝 모델의 레이어 층을 깊게 가져갈 수 있기 때문이다. ReLU에선 x가 0보다 크면 기울기가 1인 직선, 0보다 작으면 함수 값이 0이 된다. 이는 0보다 작은 값들에서 뉴런이 죽을 수 있는 단점을 야기하지만 Sigmoid나 Tanh 함수보다 학습이 빠르고, 연산량이 적고, 구현이 매우 간단하다. ReLU에 inplace를 True로 함으로써 inplace 연산을 수행한다. Inplace 연산은 결과값을 새로운 변수에 값을 저장하는 대신 기존의 데이터를 대체하는 것을 의미한다.  이러한 과정을 한번 더 반복한 후 Max Pooling을 한다. pooling이란 일정 크기의 블록을 통합하여 하나의 대표값으로 대체하는 연산인데, Max Pooling은 최대값을 대표값으로 한다. Max Pooling 과정에서 dimension이 (32,32,32,32) 인 데이터가 (32,32,16,16)으로 바뀌며, image size가 반으로 줄어든다.  self.layer1의 마지막엔 Dropout(0.3)을 추가했다. 이는 각각의 뉴런이 0.3의 확률로 제거될지 말지 랜덤하게 결정된다.  Dropout은 어떤 특정한 Feature만을 과도하게 집중하여 학습함으로써 발생할 수 있는 overfitting을 방지하기 위해 사용된다. 이렇게 하나의 self.layer가 정의된다. self.layer2와 self.layer3도 self.layer1과 같은 구조다. 단지, 채널과 Dropout이 self.layer2에서 64, 0.5, self.layer3에서 128, 0.5로 바뀔 뿐이다. 그러면 self.layer1을 통과해서 나온 dimension이 (32,32,16,16)인 데이터가 self.layer2를 통과하면서 (32,64,8,8)이 되고, self.layer3을 통과하면서 (32,128,4,4)가 된다.\n",
    "\n",
    "dimension이 (32,128,4,4)인 데이터는 torch.flatten(x, 1)를 통해 (32,128x4x4)로 바뀐다. 이는 FC에 넣기 위함이다. 그렇게 nn.Linear(128x4x4, 128)에 들어가고, 똑같이 BatchNorm과 ReLU, Dropout을 통과하는데 이때 BatchNorm1d이며, Dropout(0.5)로 설정했다. 이후  nn.Linear(128, 10)과 Softmax(dim=1)을 통과하면서 classes 개수의 확률로 표현이 된다.\n",
    "\n",
    "Device는 cuda를 이용하는 컴퓨터에서 돌리기 위해 추가했으며, model에 network를 추가하여 .to(device)를 통해 gpu를 이용하게 만들었다. Optimizer은 Adam을 이용했고 learning rate=1e-4, weight decay=3e-3으로 설정했다.\n",
    "\n",
    "train과 test에서 loss는 cross entropy를 이용했다. data와 target도 gpu를 사용하기 위해 .to(device)를 추가했으며, output은 네트워크를 통과한 classes 개수의 확률값이다. loss.backward()와 optimizer.step()를 통해 train을 할 때마다 loss가 줄어들도록 파라미터들이 optimize된다. test에서는 accuracy도 계산한다. output.argmax(dim=1, keepdim=True)를 통해 classes 개수의 확률값중 가장 큰 값의 차원을 출력한다. 즉, 머신이 어떤 classes로 판단을 했는지가 된다. keepdim을 True로 했기 때문에 dimension은 변하지 않는다. 이를 target과 비교해서 True인지 False인지 판단을 하고, correct로 True의 개수를 센다. 그리고 이를 전체 데이터 개수로 나눈다음 100을 곱함으로써 accuracy가 계산된다. Epoch % 20 == 0 을 통해 epoch 가 20의 배수일 때 마다 train에선 loss가, test에선 loss와 accuracy가 출력되게 했다.\n",
    "\n",
    "test에서 최대 accuracy를 얻는 것이 목적이기 때문에, epoch는 1000으로 설정을 했다. 단, epoch가 30번 반복될동안 best accuracy가 갱신되지 않는다면 더 이상의 train은 의미가 없다고 판단하여 멈추도록 코드를 짰다. 최종적으로 train은 190번 반복됐으며, best accuracy는 epoch=160일 때 86.09%를 얻었다."
   ]
  }
 ],
 "metadata": {
  "kernelspec": {
   "display_name": "Python 3 (ipykernel)",
   "language": "python",
   "name": "python3"
  },
  "language_info": {
   "codemirror_mode": {
    "name": "ipython",
    "version": 3
   },
   "file_extension": ".py",
   "mimetype": "text/x-python",
   "name": "python",
   "nbconvert_exporter": "python",
   "pygments_lexer": "ipython3",
   "version": "3.9.7"
  }
 },
 "nbformat": 4,
 "nbformat_minor": 5
}
